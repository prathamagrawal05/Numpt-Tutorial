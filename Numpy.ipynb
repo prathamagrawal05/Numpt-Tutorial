{
  "nbformat": 4,
  "nbformat_minor": 0,
  "metadata": {
    "colab": {
      "name": "Numpy.ipynb",
      "provenance": [],
      "collapsed_sections": []
    },
    "kernelspec": {
      "name": "python3",
      "display_name": "Python 3"
    },
    "language_info": {
      "name": "python"
    }
  },
  "cells": [
    {
      "cell_type": "markdown",
      "source": [
        "**Numpy** **Library**"
      ],
      "metadata": {
        "id": "W4-fHzwbNKWh"
      }
    },
    {
      "cell_type": "code",
      "execution_count": 1,
      "metadata": {
        "id": "WxQnHOvkMzB3"
      },
      "outputs": [],
      "source": [
        " import numpy as np"
      ]
    },
    {
      "cell_type": "markdown",
      "source": [
        "Basics"
      ],
      "metadata": {
        "id": "sB4JunWqOEL2"
      }
    },
    {
      "cell_type": "code",
      "source": [
        "a = np.array([2.0,4.5,6])\n",
        "print(a)\n",
        "\n",
        "b = np.array([[2,5.6,7.8] , [3,6,8]])\n",
        "print(b)\n",
        "\n",
        "# #getting shape\n",
        "b.shape\n",
        "\n",
        "# #getting dimension\n",
        "b.ndim"
      ],
      "metadata": {
        "colab": {
          "base_uri": "https://localhost:8080/"
        },
        "id": "xcaVJPDHOGow",
        "outputId": "5bff959c-b0e1-4e37-a412-c88da0542033"
      },
      "execution_count": null,
      "outputs": [
        {
          "output_type": "stream",
          "name": "stdout",
          "text": [
            "[2.  4.5 6. ]\n",
            "[[2.  5.6 7.8]\n",
            " [3.  6.  8. ]]\n"
          ]
        },
        {
          "output_type": "execute_result",
          "data": {
            "text/plain": [
              "2"
            ]
          },
          "metadata": {},
          "execution_count": 2
        }
      ]
    },
    {
      "cell_type": "code",
      "source": [
        ""
      ],
      "metadata": {
        "id": "FwOa8W6r7Zl6"
      },
      "execution_count": 1,
      "outputs": []
    },
    {
      "cell_type": "code",
      "source": [
        ""
      ],
      "metadata": {
        "id": "wZsHcBUa7aBa"
      },
      "execution_count": null,
      "outputs": []
    },
    {
      "cell_type": "code",
      "source": [
        ""
      ],
      "metadata": {
        "id": "uqzQhxqz7aSc"
      },
      "execution_count": null,
      "outputs": []
    },
    {
      "cell_type": "markdown",
      "source": [
        "get data type"
      ],
      "metadata": {
        "id": "xaSmqyQkQJVE"
      }
    },
    {
      "cell_type": "code",
      "source": [
        "b.dtype"
      ],
      "metadata": {
        "colab": {
          "base_uri": "https://localhost:8080/"
        },
        "id": "WmhlV7TkQWsC",
        "outputId": "787b2ec3-1743-4e6e-942b-6b2b38a4cbcf"
      },
      "execution_count": null,
      "outputs": [
        {
          "output_type": "execute_result",
          "data": {
            "text/plain": [
              "dtype('float64')"
            ]
          },
          "metadata": {},
          "execution_count": 3
        }
      ]
    },
    {
      "cell_type": "markdown",
      "source": [
        "get size"
      ],
      "metadata": {
        "id": "k1fufGoVQiSS"
      }
    },
    {
      "cell_type": "code",
      "source": [
        "b.itemsize"
      ],
      "metadata": {
        "colab": {
          "base_uri": "https://localhost:8080/"
        },
        "id": "jDudAS3HQk9D",
        "outputId": "d8258e84-115f-44ce-9d37-763f5a934e67"
      },
      "execution_count": null,
      "outputs": [
        {
          "output_type": "execute_result",
          "data": {
            "text/plain": [
              "8"
            ]
          },
          "metadata": {},
          "execution_count": 4
        }
      ]
    },
    {
      "cell_type": "markdown",
      "source": [
        "get total size"
      ],
      "metadata": {
        "id": "XXCh_-FwRCM3"
      }
    },
    {
      "cell_type": "code",
      "source": [
        "b.nbytes"
      ],
      "metadata": {
        "colab": {
          "base_uri": "https://localhost:8080/"
        },
        "id": "y55xb4KpREi6",
        "outputId": "96a1682e-6be4-4664-dc2d-bdcda8bfbda7"
      },
      "execution_count": null,
      "outputs": [
        {
          "output_type": "execute_result",
          "data": {
            "text/plain": [
              "48"
            ]
          },
          "metadata": {},
          "execution_count": 5
        }
      ]
    },
    {
      "cell_type": "markdown",
      "source": [
        "get a specific element"
      ],
      "metadata": {
        "id": "AgDypE67U1K8"
      }
    },
    {
      "cell_type": "code",
      "source": [
        "b[1,2]"
      ],
      "metadata": {
        "colab": {
          "base_uri": "https://localhost:8080/"
        },
        "id": "wfMpQ_P4U4sG",
        "outputId": "1d474562-6230-4a2e-e6e0-0c0adf9c9192"
      },
      "execution_count": null,
      "outputs": [
        {
          "output_type": "execute_result",
          "data": {
            "text/plain": [
              "8.0"
            ]
          },
          "metadata": {},
          "execution_count": 6
        }
      ]
    },
    {
      "cell_type": "markdown",
      "source": [
        "get a specific column"
      ],
      "metadata": {
        "id": "JBSFMgDqWkpT"
      }
    },
    {
      "cell_type": "code",
      "source": [
        "b[:,2]"
      ],
      "metadata": {
        "colab": {
          "base_uri": "https://localhost:8080/"
        },
        "id": "vz06COTPWpZf",
        "outputId": "ca9c9261-c2bb-400a-bf44-378a5e954928"
      },
      "execution_count": null,
      "outputs": [
        {
          "output_type": "execute_result",
          "data": {
            "text/plain": [
              "array([7.8, 8. ])"
            ]
          },
          "metadata": {},
          "execution_count": 7
        }
      ]
    },
    {
      "cell_type": "markdown",
      "source": [
        "get a specific row"
      ],
      "metadata": {
        "id": "-v-TK_3SWuoh"
      }
    },
    {
      "cell_type": "code",
      "source": [
        "b[1,:]"
      ],
      "metadata": {
        "colab": {
          "base_uri": "https://localhost:8080/"
        },
        "id": "_TablIxvWz8f",
        "outputId": "305c24a3-b6c3-4b61-958e-975c659770d0"
      },
      "execution_count": null,
      "outputs": [
        {
          "output_type": "execute_result",
          "data": {
            "text/plain": [
              "array([3., 6., 8.])"
            ]
          },
          "metadata": {},
          "execution_count": 8
        }
      ]
    },
    {
      "cell_type": "markdown",
      "source": [
        "accesing middle elements in a row"
      ],
      "metadata": {
        "id": "ZNlsqxF0XUxy"
      }
    },
    {
      "cell_type": "code",
      "source": [
        "c=np.array([[32,5,6,43,34,6,3,5,8,1] , [3,5,4,7,3,5,35,4,3,2]])\n"
      ],
      "metadata": {
        "id": "a-YDz3c50CgW"
      },
      "execution_count": null,
      "outputs": []
    },
    {
      "cell_type": "markdown",
      "source": [
        "To change an element in array"
      ],
      "metadata": {
        "id": "DQQIdbfx13yx"
      }
    },
    {
      "cell_type": "code",
      "source": [
        "c[:,2] = 20\n",
        "print(c)\n",
        "\n",
        "c[:,2] = [2,6]\n",
        "print(c)\n",
        "\n",
        "c[1,4] = 3\n",
        "print(c)"
      ],
      "metadata": {
        "colab": {
          "base_uri": "https://localhost:8080/"
        },
        "id": "zLt__XNR2TE3",
        "outputId": "8901c954-f8e3-442c-bfac-a6c0fcd20672"
      },
      "execution_count": null,
      "outputs": [
        {
          "output_type": "stream",
          "name": "stdout",
          "text": [
            "[[32  5 20 43 34  6  3  5  8  1]\n",
            " [ 3  5 20  7  3  5 35  4  3  2]]\n",
            "[[32  5  2 43 34  6  3  5  8  1]\n",
            " [ 3  5  6  7  3  5 35  4  3  2]]\n",
            "[[32  5  2 43 34  6  3  5  8  1]\n",
            " [ 3  5  6  7  3  5 35  4  3  2]]\n"
          ]
        }
      ]
    },
    {
      "cell_type": "markdown",
      "source": [
        "Get specific element"
      ],
      "metadata": {
        "id": "Cbac8I3H29Wb"
      }
    },
    {
      "cell_type": "code",
      "source": [
        "d = np.array([[[2,4,5] , [4,7,1]] , [[8,9,7,] , [1,4,8]]])\n",
        "print(d)\n",
        "\n",
        "#accesing a element\n",
        "d[0,1,2] # here 0 represents 1st row then , 1 represents the 2nd sub row and 2 represents the element at 3rd position that is '1' .\n",
        "d[0,:,:] # here 0 represents the 1st row then ':' reprensents the whole row and again ':' represents all elements of row"
      ],
      "metadata": {
        "colab": {
          "base_uri": "https://localhost:8080/"
        },
        "id": "kN1z96hA3BWv",
        "outputId": "d3cf01d6-13e4-4958-d68c-5119b7c11735"
      },
      "execution_count": null,
      "outputs": [
        {
          "output_type": "stream",
          "name": "stdout",
          "text": [
            "[[[2 4 5]\n",
            "  [4 7 1]]\n",
            "\n",
            " [[8 9 7]\n",
            "  [1 4 8]]]\n"
          ]
        },
        {
          "output_type": "execute_result",
          "data": {
            "text/plain": [
              "array([[2, 4, 5],\n",
              "       [4, 7, 1]])"
            ]
          },
          "metadata": {},
          "execution_count": 11
        }
      ]
    },
    {
      "cell_type": "markdown",
      "source": [
        "All 0's matrix"
      ],
      "metadata": {
        "id": "xrSfR-f0ITIU"
      }
    },
    {
      "cell_type": "code",
      "source": [
        "np.zeros((4,2,2))"
      ],
      "metadata": {
        "colab": {
          "base_uri": "https://localhost:8080/"
        },
        "id": "G6cMvYUtIjb1",
        "outputId": "634664b6-7bc2-4c3a-825b-ebf77097e275"
      },
      "execution_count": null,
      "outputs": [
        {
          "output_type": "execute_result",
          "data": {
            "text/plain": [
              "array([[[0., 0.],\n",
              "        [0., 0.]],\n",
              "\n",
              "       [[0., 0.],\n",
              "        [0., 0.]],\n",
              "\n",
              "       [[0., 0.],\n",
              "        [0., 0.]],\n",
              "\n",
              "       [[0., 0.],\n",
              "        [0., 0.]]])"
            ]
          },
          "metadata": {},
          "execution_count": 12
        }
      ]
    },
    {
      "cell_type": "markdown",
      "source": [
        "All 1's matrix"
      ],
      "metadata": {
        "id": "Fi1FVm5jI0FD"
      }
    },
    {
      "cell_type": "code",
      "source": [
        "np.ones((4,3,2,3))"
      ],
      "metadata": {
        "colab": {
          "base_uri": "https://localhost:8080/"
        },
        "id": "fB-8f_P_I2sT",
        "outputId": "3525258e-21cc-4e66-a34e-f67a4a1bd4c9"
      },
      "execution_count": null,
      "outputs": [
        {
          "output_type": "execute_result",
          "data": {
            "text/plain": [
              "array([[[[1., 1., 1.],\n",
              "         [1., 1., 1.]],\n",
              "\n",
              "        [[1., 1., 1.],\n",
              "         [1., 1., 1.]],\n",
              "\n",
              "        [[1., 1., 1.],\n",
              "         [1., 1., 1.]]],\n",
              "\n",
              "\n",
              "       [[[1., 1., 1.],\n",
              "         [1., 1., 1.]],\n",
              "\n",
              "        [[1., 1., 1.],\n",
              "         [1., 1., 1.]],\n",
              "\n",
              "        [[1., 1., 1.],\n",
              "         [1., 1., 1.]]],\n",
              "\n",
              "\n",
              "       [[[1., 1., 1.],\n",
              "         [1., 1., 1.]],\n",
              "\n",
              "        [[1., 1., 1.],\n",
              "         [1., 1., 1.]],\n",
              "\n",
              "        [[1., 1., 1.],\n",
              "         [1., 1., 1.]]],\n",
              "\n",
              "\n",
              "       [[[1., 1., 1.],\n",
              "         [1., 1., 1.]],\n",
              "\n",
              "        [[1., 1., 1.],\n",
              "         [1., 1., 1.]],\n",
              "\n",
              "        [[1., 1., 1.],\n",
              "         [1., 1., 1.]]]])"
            ]
          },
          "metadata": {},
          "execution_count": 13
        }
      ]
    },
    {
      "cell_type": "markdown",
      "source": [
        "Any other number"
      ],
      "metadata": {
        "id": "vOHaps1PJfEr"
      }
    },
    {
      "cell_type": "code",
      "source": [
        "np.full((2,2) , 55)"
      ],
      "metadata": {
        "colab": {
          "base_uri": "https://localhost:8080/"
        },
        "id": "ZTETpDtMJhQj",
        "outputId": "823b09c8-4442-4631-d109-b1f04239c84b"
      },
      "execution_count": 2,
      "outputs": [
        {
          "output_type": "execute_result",
          "data": {
            "text/plain": [
              "array([[55, 55],\n",
              "       [55, 55]])"
            ]
          },
          "metadata": {},
          "execution_count": 2
        }
      ]
    },
    {
      "cell_type": "markdown",
      "source": [
        "Built an array in shape of other array"
      ],
      "metadata": {
        "id": "O2mFeYbFJ2uz"
      }
    },
    {
      "cell_type": "code",
      "source": [
        "np.full(b.shape , 6)\n",
        "#   OR\n",
        "np.full_like(b,6)"
      ],
      "metadata": {
        "colab": {
          "base_uri": "https://localhost:8080/"
        },
        "id": "0whpEM0AJ8Ju",
        "outputId": "04cd2f8e-2964-49f7-ee6e-d07bc86d7126"
      },
      "execution_count": null,
      "outputs": [
        {
          "output_type": "execute_result",
          "data": {
            "text/plain": [
              "array([[6., 6., 6.],\n",
              "       [6., 6., 6.]])"
            ]
          },
          "metadata": {},
          "execution_count": 14
        }
      ]
    },
    {
      "cell_type": "markdown",
      "source": [
        "Any random number array"
      ],
      "metadata": {
        "id": "YK7_C2qZK5fc"
      }
    },
    {
      "cell_type": "code",
      "source": [
        "np.random.rand(3,1)\n",
        "\n",
        "np.random.random_sample(b.shape)"
      ],
      "metadata": {
        "colab": {
          "base_uri": "https://localhost:8080/"
        },
        "id": "EwhfPCQxKmzi",
        "outputId": "9bdb9056-873d-4efa-9a0a-ec5e2aa1fa8c"
      },
      "execution_count": null,
      "outputs": [
        {
          "output_type": "execute_result",
          "data": {
            "text/plain": [
              "array([[0.97067214, 0.81496474, 0.17335497],\n",
              "       [0.96033453, 0.67851237, 0.03422961]])"
            ]
          },
          "metadata": {},
          "execution_count": 16
        }
      ]
    },
    {
      "cell_type": "markdown",
      "source": [
        "generate an integer array with some values constraints"
      ],
      "metadata": {
        "id": "eCPGXsQKL1OD"
      }
    },
    {
      "cell_type": "code",
      "source": [
        "np.random.randint(-2,5 , size = (3,4))  #here -2,5 is the constraint that the number should be in between these -2 to 5."
      ],
      "metadata": {
        "colab": {
          "base_uri": "https://localhost:8080/"
        },
        "id": "K90eHzbOL-FX",
        "outputId": "3549d588-594a-4716-c042-e1d3a748a89e"
      },
      "execution_count": null,
      "outputs": [
        {
          "output_type": "execute_result",
          "data": {
            "text/plain": [
              "array([[ 2,  4,  2, -1],\n",
              "       [-1,  0, -1,  4],\n",
              "       [ 3,  0,  2, -2]])"
            ]
          },
          "metadata": {},
          "execution_count": 17
        }
      ]
    },
    {
      "cell_type": "markdown",
      "source": [
        "Identity Matrix"
      ],
      "metadata": {
        "id": "-uS25U1XMkW6"
      }
    },
    {
      "cell_type": "code",
      "source": [
        "np.identity(4)"
      ],
      "metadata": {
        "colab": {
          "base_uri": "https://localhost:8080/"
        },
        "id": "hElybNaXMmoY",
        "outputId": "3a57f3f6-b97e-4b2d-ed53-a45cc9da1f2c"
      },
      "execution_count": null,
      "outputs": [
        {
          "output_type": "execute_result",
          "data": {
            "text/plain": [
              "array([[1., 0., 0., 0.],\n",
              "       [0., 1., 0., 0.],\n",
              "       [0., 0., 1., 0.],\n",
              "       [0., 0., 0., 1.]])"
            ]
          },
          "metadata": {},
          "execution_count": 18
        }
      ]
    },
    {
      "cell_type": "markdown",
      "source": [
        "Reapeat an array"
      ],
      "metadata": {
        "id": "uaK7tYHiXxvi"
      }
    },
    {
      "cell_type": "code",
      "source": [
        "arr = np.array([[1,4,3,6,7]])\n",
        "repeat = np.repeat(arr , 3 )\n",
        "print(repeat)"
      ],
      "metadata": {
        "id": "2qwoxaFVX0PI",
        "colab": {
          "base_uri": "https://localhost:8080/"
        },
        "outputId": "01142f4c-dfc4-4a75-dc11-dbda9f5e4570"
      },
      "execution_count": 9,
      "outputs": [
        {
          "output_type": "stream",
          "name": "stdout",
          "text": [
            "[1 1 1 4 4 4 3 3 3 6 6 6 7 7 7]\n"
          ]
        }
      ]
    },
    {
      "cell_type": "code",
      "source": [
        "ones = np.ones((5,5))\n",
        "print(ones)\n",
        "\n",
        "zero = np.zeros((3,3))\n",
        "zero[1,1] = 9\n",
        "print(zero)\n",
        "\n",
        "ones[1:4,1:4] = zero\n",
        "print(ones)"
      ],
      "metadata": {
        "colab": {
          "base_uri": "https://localhost:8080/"
        },
        "id": "PLbWnu-wzzCG",
        "outputId": "3b3a23da-4fab-4e70-ccf9-0fc200dbfc71"
      },
      "execution_count": 10,
      "outputs": [
        {
          "output_type": "stream",
          "name": "stdout",
          "text": [
            "[[1. 1. 1. 1. 1.]\n",
            " [1. 1. 1. 1. 1.]\n",
            " [1. 1. 1. 1. 1.]\n",
            " [1. 1. 1. 1. 1.]\n",
            " [1. 1. 1. 1. 1.]]\n",
            "[[0. 0. 0.]\n",
            " [0. 9. 0.]\n",
            " [0. 0. 0.]]\n",
            "[[1. 1. 1. 1. 1.]\n",
            " [1. 0. 0. 0. 1.]\n",
            " [1. 0. 9. 0. 1.]\n",
            " [1. 0. 0. 0. 1.]\n",
            " [1. 1. 1. 1. 1.]]\n"
          ]
        }
      ]
    },
    {
      "cell_type": "markdown",
      "source": [
        "Be careful with copying array"
      ],
      "metadata": {
        "id": "piCiAaB31YBM"
      }
    },
    {
      "cell_type": "code",
      "source": [
        "n = [1,3,5]\n",
        "s = n #it means 's' is same as 'n' .\n",
        "s[1] = 35 # it means the value will also change in 'n'\n",
        "print(n)\n",
        "print(s)\n",
        "\n",
        "x = [1,2,3,4]\n",
        "y = x.copy() #this actually copies data from 'x' to 'y' . Now changes in 'y' will not 'x' .\n",
        "y[0] = 34\n",
        "\n",
        "print(x)\n",
        "\n",
        "print(y)"
      ],
      "metadata": {
        "colab": {
          "base_uri": "https://localhost:8080/"
        },
        "id": "8uHPMCt31ema",
        "outputId": "c21d3daa-ba1f-464e-8bc9-c53c58b1e0d1"
      },
      "execution_count": 15,
      "outputs": [
        {
          "output_type": "stream",
          "name": "stdout",
          "text": [
            "[1, 35, 5]\n",
            "[1, 35, 5]\n",
            "[1, 2, 3, 4]\n",
            "[34, 2, 3, 4]\n"
          ]
        }
      ]
    },
    {
      "cell_type": "markdown",
      "source": [
        "Mathematics in Array"
      ],
      "metadata": {
        "id": "qyr-crON4PB7"
      }
    },
    {
      "cell_type": "code",
      "source": [
        "w = np.array([2,4,7,9])\n",
        "\n",
        "#add\n",
        "w = w + 2\n",
        "w\n",
        "\n",
        "#subtract\n",
        "w = w - 2\n",
        "w\n",
        "\n",
        "#multiply\n",
        "w = w*2\n",
        "w\n",
        "\n",
        "#division\n",
        "w = w/2\n",
        "w\n",
        "\n",
        "#add an array\n",
        "v = np.array([2,5,7,9])\n",
        "w = w+v\n",
        "w\n",
        "\n",
        "#power\n",
        "w = w**3\n",
        "w\n",
        "\n",
        "#sin\n",
        "np.sin(w)\n",
        "\n",
        "#cos\n",
        "np.cos(w)"
      ],
      "metadata": {
        "colab": {
          "base_uri": "https://localhost:8080/"
        },
        "id": "sPXnxQce4RjZ",
        "outputId": "1c85056a-68e3-4e52-9b47-f884406bfbf9"
      },
      "execution_count": 33,
      "outputs": [
        {
          "output_type": "execute_result",
          "data": {
            "text/plain": [
              "array([ 0.39185723,  0.98869558, -0.18019325,  0.3585941 ])"
            ]
          },
          "metadata": {},
          "execution_count": 33
        }
      ]
    },
    {
      "cell_type": "markdown",
      "source": [
        "Linear Algebra"
      ],
      "metadata": {
        "id": "3JE72PSY7DLh"
      }
    },
    {
      "cell_type": "code",
      "source": [
        "p = np.ones((3,6))\n",
        "q = np.full((6,2) , 4)\n",
        "\n",
        "np.matmul(p,q)"
      ],
      "metadata": {
        "colab": {
          "base_uri": "https://localhost:8080/"
        },
        "id": "kW0fUeqC7Fmt",
        "outputId": "351c2ba3-6867-4140-df56-c66a638414c7"
      },
      "execution_count": 35,
      "outputs": [
        {
          "output_type": "execute_result",
          "data": {
            "text/plain": [
              "array([[24., 24.],\n",
              "       [24., 24.],\n",
              "       [24., 24.]])"
            ]
          },
          "metadata": {},
          "execution_count": 35
        }
      ]
    },
    {
      "cell_type": "markdown",
      "source": [
        "Find the determinant of matrix"
      ],
      "metadata": {
        "id": "qlf13G1B8UR2"
      }
    },
    {
      "cell_type": "code",
      "source": [
        "e = np.full((3,3) , 4)\n",
        "np.linalg.det(e)"
      ],
      "metadata": {
        "colab": {
          "base_uri": "https://localhost:8080/"
        },
        "id": "xwNyMWvT8Y3L",
        "outputId": "8b1a30a0-f8a9-4b9f-dc69-b2f886a5f190"
      },
      "execution_count": 37,
      "outputs": [
        {
          "output_type": "execute_result",
          "data": {
            "text/plain": [
              "0.0"
            ]
          },
          "metadata": {},
          "execution_count": 37
        }
      ]
    },
    {
      "cell_type": "markdown",
      "source": [
        "Statistics"
      ],
      "metadata": {
        "id": "a-hWPexW_VEm"
      }
    },
    {
      "cell_type": "code",
      "source": [
        "stats = np.array([[1,5,3,] , [3,7,1]])\n",
        "stats\n",
        "\n",
        "r = np.min(stats)\n",
        "\n",
        "t = np.max(stats)\n",
        "print(t)\n",
        "\n",
        "y = np.sum(stats)\n",
        "print(y)"
      ],
      "metadata": {
        "colab": {
          "base_uri": "https://localhost:8080/"
        },
        "id": "4nZCx-KY_dpV",
        "outputId": "a96a1b4e-0db7-4b58-d26c-af887821a6ef"
      },
      "execution_count": 50,
      "outputs": [
        {
          "output_type": "stream",
          "name": "stdout",
          "text": [
            "7\n",
            "20\n"
          ]
        }
      ]
    },
    {
      "cell_type": "markdown",
      "source": [
        "Reorganizing Arrays"
      ],
      "metadata": {
        "id": "MmuzNj0cBipY"
      }
    },
    {
      "cell_type": "code",
      "source": [
        "before = np.array([[23,56,34],[28,45,9]])\n",
        "print(before)\n",
        "\n",
        "after = before.reshape((1,6))\n",
        "print(after)"
      ],
      "metadata": {
        "colab": {
          "base_uri": "https://localhost:8080/"
        },
        "id": "bMa50VdHBmJX",
        "outputId": "3b9d4c5d-1949-40f0-cc42-45c9984ba882"
      },
      "execution_count": 51,
      "outputs": [
        {
          "output_type": "stream",
          "name": "stdout",
          "text": [
            "[[23 56 34]\n",
            " [28 45  9]]\n",
            "[[23 56 34 28 45  9]]\n"
          ]
        }
      ]
    },
    {
      "cell_type": "markdown",
      "source": [
        "Vertical stacking of arrays"
      ],
      "metadata": {
        "id": "yY4jlLhRCnL1"
      }
    },
    {
      "cell_type": "code",
      "source": [
        "v1 = np.array([1,3,6])\n",
        "v2 = np.array([6,3,8])\n",
        "np.vstack([v1,v2,v2,v1,v2])"
      ],
      "metadata": {
        "colab": {
          "base_uri": "https://localhost:8080/"
        },
        "id": "JMm4Dec8CrQc",
        "outputId": "5c508076-6dce-42b1-8288-759781323130"
      },
      "execution_count": 52,
      "outputs": [
        {
          "output_type": "execute_result",
          "data": {
            "text/plain": [
              "array([[1, 3, 6],\n",
              "       [6, 3, 8],\n",
              "       [6, 3, 8],\n",
              "       [1, 3, 6],\n",
              "       [6, 3, 8]])"
            ]
          },
          "metadata": {},
          "execution_count": 52
        }
      ]
    },
    {
      "cell_type": "markdown",
      "source": [
        "Horizontal stacking of arrays"
      ],
      "metadata": {
        "id": "ZBDh1dhxDBCU"
      }
    },
    {
      "cell_type": "code",
      "source": [
        "h1 = np.array([1,3,6])\n",
        "h2 = np.array([6,3,8])\n",
        "np.hstack([h1,h2,h2,h1,h1])"
      ],
      "metadata": {
        "colab": {
          "base_uri": "https://localhost:8080/"
        },
        "id": "l5EAIq8yDFZW",
        "outputId": "32036419-88c3-4540-f001-d6d77aa672e7"
      },
      "execution_count": 53,
      "outputs": [
        {
          "output_type": "execute_result",
          "data": {
            "text/plain": [
              "array([1, 3, 6, 6, 3, 8, 6, 3, 8, 1, 3, 6, 1, 3, 6])"
            ]
          },
          "metadata": {},
          "execution_count": 53
        }
      ]
    }
  ]
}